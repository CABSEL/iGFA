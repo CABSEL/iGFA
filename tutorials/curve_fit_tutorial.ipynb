{
 "cells": [
  {
   "cell_type": "markdown",
   "id": "c39d56ed-ab7a-429c-8b59-0641ce28cb92",
   "metadata": {},
   "source": [
    "# Curve Fitter"
   ]
  },
  {
   "cell_type": "markdown",
   "id": "f4747d1e-1f87-4a1a-8e04-63d1c1146c96",
   "metadata": {},
   "source": [
    "This tutorial demonstrates how to do curve fitting as a pre-processing step to iGFA."
   ]
  },
  {
   "cell_type": "code",
   "execution_count": 1,
   "id": "9baaa7a2-9ff1-4210-8341-53a22bac209e",
   "metadata": {},
   "outputs": [],
   "source": [
    "import os\n",
    "import sys\n",
    "import numpy as np\n",
    "import pandas as pd\n",
    "import matplotlib.pyplot as plt\n",
    "import seaborn as sns"
   ]
  },
  {
   "cell_type": "code",
   "execution_count": 2,
   "id": "96cb6fdb-cb32-4a69-a1ff-cab0290b4610",
   "metadata": {},
   "outputs": [],
   "source": [
    "sys.path.insert(0, '/home/cabsel/gfa/')\n",
    "from gfapy.curve_fit import curve_fitter"
   ]
  },
  {
   "cell_type": "code",
   "execution_count": 3,
   "id": "76a65c97-d8c3-4b60-b0bd-43e4ed801cf0",
   "metadata": {},
   "outputs": [],
   "source": [
    "mainDir = '/home/cabsel/gfa/'\n",
    "inputDir = os.path.join(mainDir, 'inputfiles')"
   ]
  },
  {
   "cell_type": "markdown",
   "id": "33885095-f04d-4daf-99f4-d8b5132ffa05",
   "metadata": {},
   "source": [
    "Here, we demo how to ingest and smooth the VCD experimental data with a logistic function."
   ]
  },
  {
   "cell_type": "markdown",
   "id": "d4d7c3a6-143a-48ac-9a54-af634a2c8f80",
   "metadata": {},
   "source": [
    "## Ingest data into Curve Fitter"
   ]
  },
  {
   "cell_type": "code",
   "execution_count": 4,
   "id": "29a8efbe-ee28-480a-a461-f7d115585e22",
   "metadata": {},
   "outputs": [
    {
     "data": {
      "text/plain": [
       "Index(['Time (WD)', 'VCD (1E6 VC/mL)', 'fit_VCD (1E6 VC/mL)'], dtype='object')"
      ]
     },
     "metadata": {},
     "output_type": "display_data"
    }
   ],
   "source": [
    "expt_data = pd.read_excel(os.path.join(inputDir, 'smoothed_data_lowpH.xlsx'), sheet_name=['vcd', 'titer', 'frac', 'q_prod_matched'])\n",
    "expt_data['VCD'] = (expt_data.pop('vcd').rename(columns={'VCD_1e6cells_mL': 'VCD (1E6 VC/mL)',\n",
    "                                                         'Time_days': 'Time (WD)',\n",
    "                                                         'fit_VCD_1e6cells_mL': 'fit_VCD (1E6 VC/mL)'}).\n",
    "                    set_index('Time (WD)'))\n",
    "display(expt_data['VCD'].reset_index().columns)"
   ]
  },
  {
   "cell_type": "code",
   "execution_count": 5,
   "id": "50bb5778-300c-4765-a679-57f7eed5b88c",
   "metadata": {},
   "outputs": [
    {
     "name": "stdout",
     "output_type": "stream",
     "text": [
      "Choose a model from below keys or \"Custom:\"\n",
      "['Polynomial', 'Exponential', 'Power', 'Logarithmic', 'Fourier', 'Gaussian', 'Weibull', 'Hill-type', 'Sigmoidal']\n"
     ]
    }
   ],
   "source": [
    "fit_vcd = curve_fitter()\n",
    "fit_vcd.ingest_data(expt_data['VCD'].reset_index(), x_col='Time (WD)')"
   ]
  },
  {
   "cell_type": "markdown",
   "id": "b11facdf-6b6d-4af7-9084-d729fc14d160",
   "metadata": {},
   "source": [
    "Here, the logistic function is of the form: \n",
    "<b>A / (exp(B * x) + C * exp(-D * x)) </b> where A, B, C and D are estimated parameters."
   ]
  },
  {
   "cell_type": "code",
   "execution_count": 9,
   "id": "965b49d8-19f2-47ab-8056-3869c3e07c0f",
   "metadata": {},
   "outputs": [
    {
     "data": {
      "application/vnd.jupyter.widget-view+json": {
       "model_id": "ed9f083b1861412e957dccec8c0219fc",
       "version_major": 2,
       "version_minor": 0
      },
      "text/plain": [
       "VBox(children=(HBox(children=(Dropdown(description='Model:', options=('Polynomial', 'Exponential', 'Power', 'L…"
      ]
     },
     "metadata": {},
     "output_type": "display_data"
    },
    {
     "data": {
      "application/vnd.jupyter.widget-view+json": {
       "model_id": "7b50136d639540db85133cfb5af47ed3",
       "version_major": 2,
       "version_minor": 0
      },
      "text/plain": [
       "Output()"
      ]
     },
     "metadata": {},
     "output_type": "display_data"
    }
   ],
   "source": [
    "vcd_col = 'VCD (1E6 VC/mL)'\n",
    "fit_vcd.fit_jupyter(vcd_col)"
   ]
  },
  {
   "cell_type": "code",
   "execution_count": 12,
   "id": "7ba19356-9e35-4def-8ae0-027ba9a7ec9d",
   "metadata": {},
   "outputs": [
    {
     "data": {
      "text/plain": [
       "<Axes: xlabel='Time (WD)', ylabel='VCD (1E6 VC/mL)'>"
      ]
     },
     "execution_count": 12,
     "metadata": {},
     "output_type": "execute_result"
    },
    {
     "data": {
      "image/png": "[encoded data removed]",
      "text/plain": [
       "<Figure size 640x480 with 1 Axes>"
      ]
     },
     "metadata": {},
     "output_type": "display_data"
    }
   ],
   "source": [
    "ax = sns.scatterplot(data=fit_vcd.data, x='Time (WD)', y='VCD (1E6 VC/mL)', c='r', label='Original')\n",
    "sns.lineplot(data=fit_vcd.data, x='Time (WD)', y='fit_VCD (1E6 VC/mL)', c='k', ax=ax, label='Fitted')"
   ]
  }
 ],
 "metadata": {
  "kernelspec": {
   "display_name": "Python 3 (ipykernel)",
   "language": "python",
   "name": "python3"
  },
  "language_info": {
   "codemirror_mode": {
    "name": "ipython",
    "version": 3
   },
   "file_extension": ".py",
   "mimetype": "text/x-python",
   "name": "python",
   "nbconvert_exporter": "python",
   "pygments_lexer": "ipython3",
   "version": "3.11.7"
  },
  "widgets": {
   "application/vnd.jupyter.widget-state+json": {
    "state": {
     "0234d56d126b4997987b21a646f0713b": {
      "model_module": "@jupyter-widgets/controls",
      "model_module_version": "2.0.0",
      "model_name": "DescriptionStyleModel",
      "state": {
       "description_width": ""
      }
     },
     "0ca6b98edd3e487890d753042ccbe9a2": {
      "model_module": "@jupyter-widgets/base",
      "model_module_version": "2.0.0",
      "model_name": "LayoutModel",
      "state": {
       "display": "none"
      }
     },
     "1563002cf4234e3f84bbef2c445ca642": {
      "model_module": "@jupyter-widgets/controls",
      "model_module_version": "2.0.0",
      "model_name": "DropdownModel",
      "state": {
       "_options_labels": [
        "Polynomial",
        "Exponential",
        "Power",
        "Logarithmic",
        "Fourier",
        "Gaussian",
        "Weibull",
        "Hill-type",
        "Sigmoidal",
        "Custom"
       ],
       "description": "Model:",
       "index": 8,
       "layout": "IPY_MODEL_c06c9645b00a401fa9923ffdcb38cf17",
       "style": "IPY_MODEL_4455fc4d5ca6408a8977123e8820caa4"
      }
     },
     "1a648b4ea84749b8816e7466b97cfbc7": {
      "model_module": "@jupyter-widgets/base",
      "model_module_version": "2.0.0",
      "model_name": "LayoutModel",
      "state": {
       "align_items": "flex-start"
      }
     },
     "34bd5564e10e4df98982f43f81f3c458": {
      "model_module": "@jupyter-widgets/controls",
      "model_module_version": "2.0.0",
      "model_name": "TextStyleModel",
      "state": {
       "description_width": "",
       "font_size": null,
       "text_color": null
      }
     },
     "352b21fe82984d54a8fc452635a68d8a": {
      "model_module": "@jupyter-widgets/controls",
      "model_module_version": "2.0.0",
      "model_name": "DropdownModel",
      "state": {
       "_options_labels": [
        "Logistic",
        "4PL",
        "Alternate Logistic",
        "Gompertz"
       ],
       "description": "Submodel:",
       "index": 2,
       "layout": "IPY_MODEL_79ba74c790ec4b328c58e52f9816f9bf",
       "style": "IPY_MODEL_f1fd269fb38e4c69a9cbc5643632532f"
      }
     },
     "3730079da2bb4f33b1e93170b45c3c9e": {
      "model_module": "@jupyter-widgets/output",
      "model_module_version": "1.0.0",
      "model_name": "OutputModel",
      "state": {
       "layout": "IPY_MODEL_b647012082fd436cad84a67cb57d778f",
       "outputs": [
        {
         "name": "stdout",
         "output_type": "stream",
         "text": "0.019431404560929*(-0.0505094526190915*exp(0.0505094526190915*x) + 11.1222374486757*exp(-0.455014025087188*x))/(0.040910295899263*exp(0.0505094526190915*x) + exp(-0.455014025087188*x))**2\n"
        },
        {
         "data": {
          "text/html": "<div>\n<style scoped>\n    .dataframe tbody tr th:only-of-type {\n        vertical-align: middle;\n    }\n\n    .dataframe tbody tr th {\n        vertical-align: top;\n    }\n\n    .dataframe thead th {\n        text-align: right;\n    }\n</style>\n<table border=\"1\" class=\"dataframe\">\n  <thead>\n    <tr style=\"text-align: right;\">\n      <th></th>\n      <th>Parameter</th>\n      <th>Value</th>\n    </tr>\n  </thead>\n  <tbody>\n    <tr>\n      <th>0</th>\n      <td>A</td>\n      <td>11.61018</td>\n    </tr>\n    <tr>\n      <th>1</th>\n      <td>B</td>\n      <td>0.050509</td>\n    </tr>\n    <tr>\n      <th>2</th>\n      <td>C</td>\n      <td>24.443724</td>\n    </tr>\n    <tr>\n      <th>3</th>\n      <td>D</td>\n      <td>0.455014</td>\n    </tr>\n    <tr>\n      <th>4</th>\n      <td>R-squared</td>\n      <td>0.998939</td>\n    </tr>\n    <tr>\n      <th>5</th>\n      <td>RMSE</td>\n      <td>0.063782</td>\n    </tr>\n    <tr>\n      <th>6</th>\n      <td>Equation</td>\n      <td>A/(C*exp(-D*x) + exp(B*x))</td>\n    </tr>\n  </tbody>\n</table>\n</div>",
          "text/plain": "   Parameter                       Value\n0          A                    11.61018\n1          B                    0.050509\n2          C                   24.443724\n3          D                    0.455014\n4  R-squared                    0.998939\n5       RMSE                    0.063782\n6   Equation  A/(C*exp(-D*x) + exp(B*x))"
         },
         "metadata": {},
         "output_type": "display_data"
        },
        {
         "data": {
          "image/png": "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",
          "text/plain": "<Figure size 640x480 with 1 Axes>"
         },
         "metadata": {},
         "output_type": "display_data"
        }
       ]
      }
     },
     "3a3ed02afb4f47c49691197884507f38": {
      "model_module": "@jupyter-widgets/controls",
      "model_module_version": "2.0.0",
      "model_name": "DropdownModel",
      "state": {
       "_options_labels": [
        "Polynomial",
        "Exponential",
        "Power",
        "Logarithmic",
        "Fourier",
        "Gaussian",
        "Weibull",
        "Hill-type",
        "Sigmoidal",
        "Custom"
       ],
       "description": "Model:",
       "index": null,
       "layout": "IPY_MODEL_c03e2988183248af998c18c8366cdaaf",
       "style": "IPY_MODEL_98f31b3476c74641ac5a03fbcfcd655b"
      }
     },
     "3a78b0f1b85b44f38ce81c0904a45c6c": {
      "model_module": "@jupyter-widgets/controls",
      "model_module_version": "2.0.0",
      "model_name": "DropdownModel",
      "state": {
       "_options_labels": [
        "Logistic",
        "4PL",
        "Alternate Logistic",
        "Gompertz"
       ],
       "description": "Submodel:",
       "index": 2,
       "layout": "IPY_MODEL_8c2db4f26ce04583831da5da1920d1ec",
       "style": "IPY_MODEL_ace4f67e67a1463f8ae211c82d6944bd"
      }
     },
     "3f77f681ad504ad587b6b9eed91df21c": {
      "model_module": "@jupyter-widgets/base",
      "model_module_version": "2.0.0",
      "model_name": "LayoutModel",
      "state": {}
     },
     "4095697b5f644c97b63597596d94d729": {
      "model_module": "@jupyter-widgets/controls",
      "model_module_version": "2.0.0",
      "model_name": "HBoxModel",
      "state": {
       "children": [
        "IPY_MODEL_3a3ed02afb4f47c49691197884507f38",
        "IPY_MODEL_e2220945e98b453db55e0c59d1573747",
        "IPY_MODEL_4508b2171906416e910202c1e886f849"
       ],
       "layout": "IPY_MODEL_417c615da5fc499b89c6a622dc528c3e"
      }
     },
     "417c615da5fc499b89c6a622dc528c3e": {
      "model_module": "@jupyter-widgets/base",
      "model_module_version": "2.0.0",
      "model_name": "LayoutModel",
      "state": {}
     },
     "43f9256dc34e4ef78912fa5eeb590a1d": {
      "model_module": "@jupyter-widgets/controls",
      "model_module_version": "2.0.0",
      "model_name": "TextModel",
      "state": {
       "description": "Custom Func:",
       "layout": "IPY_MODEL_81468ccca4c5488696c9b62db432f7f8",
       "style": "IPY_MODEL_63c4649eea7347b1be60b692472ce4b9"
      }
     },
     "4455fc4d5ca6408a8977123e8820caa4": {
      "model_module": "@jupyter-widgets/controls",
      "model_module_version": "2.0.0",
      "model_name": "DescriptionStyleModel",
      "state": {
       "description_width": ""
      }
     },
     "4508b2171906416e910202c1e886f849": {
      "model_module": "@jupyter-widgets/controls",
      "model_module_version": "2.0.0",
      "model_name": "TextModel",
      "state": {
       "description": "Custom Func:",
       "layout": "IPY_MODEL_0ca6b98edd3e487890d753042ccbe9a2",
       "style": "IPY_MODEL_e551b29b94ad4bcaa8ac1209bbdb3c98"
      }
     },
     "45214c7bbb8a4f978c42139e7d066f66": {
      "model_module": "@jupyter-widgets/base",
      "model_module_version": "2.0.0",
      "model_name": "LayoutModel",
      "state": {
       "display": "none"
      }
     },
     "4ae36222da044afe904fdd928517b748": {
      "model_module": "@jupyter-widgets/controls",
      "model_module_version": "2.0.0",
      "model_name": "HBoxModel",
      "state": {
       "children": [
        "IPY_MODEL_c73f01271ccd4c4bb79c538ec4e7299c",
        "IPY_MODEL_352b21fe82984d54a8fc452635a68d8a",
        "IPY_MODEL_b0b83773470c47e583673d148d9a993e"
       ],
       "layout": "IPY_MODEL_50cf724730ea45cd8c340ec6bdf3eb58"
      }
     },
     "50185ad837f34cf3816746478f12cb69": {
      "model_module": "@jupyter-widgets/controls",
      "model_module_version": "2.0.0",
      "model_name": "ButtonModel",
      "state": {
       "description": "Fit Curve",
       "layout": "IPY_MODEL_d133a08e486c4738bcfeb44b87d44659",
       "style": "IPY_MODEL_994b805e5d4e4ea7a654f4a5ec33e526",
       "tooltip": null
      }
     },
     "50cf724730ea45cd8c340ec6bdf3eb58": {
      "model_module": "@jupyter-widgets/base",
      "model_module_version": "2.0.0",
      "model_name": "LayoutModel",
      "state": {}
     },
     "5b2347ce33324ffda75e9503d5f2f584": {
      "model_module": "@jupyter-widgets/base",
      "model_module_version": "2.0.0",
      "model_name": "LayoutModel",
      "state": {}
     },
     "5b7b08c852174f3db4512da66493b660": {
      "model_module": "@jupyter-widgets/controls",
      "model_module_version": "2.0.0",
      "model_name": "ButtonModel",
      "state": {
       "description": "Fit Curve",
       "layout": "IPY_MODEL_baa0608df4584404aa25d89bbba6304d",
       "style": "IPY_MODEL_872eb20ebb3e4989a3db9190bc5db97a",
       "tooltip": null
      }
     },
     "5ddc502899564050a0c7668fb8f8cfe1": {
      "model_module": "@jupyter-widgets/base",
      "model_module_version": "2.0.0",
      "model_name": "LayoutModel",
      "state": {
       "display": "none"
      }
     },
     "63c4649eea7347b1be60b692472ce4b9": {
      "model_module": "@jupyter-widgets/controls",
      "model_module_version": "2.0.0",
      "model_name": "TextStyleModel",
      "state": {
       "description_width": "",
       "font_size": null,
       "text_color": null
      }
     },
     "6d535b6381b547198af46e842042e9df": {
      "model_module": "@jupyter-widgets/base",
      "model_module_version": "2.0.0",
      "model_name": "LayoutModel",
      "state": {
       "align_items": "flex-start"
      }
     },
     "6f5f43c5aec848aeab9fe21cdd47991a": {
      "model_module": "@jupyter-widgets/controls",
      "model_module_version": "2.0.0",
      "model_name": "ButtonModel",
      "state": {
       "description": "Fit Curve",
       "layout": "IPY_MODEL_896dfd05048848de9f91c0562e45df36",
       "style": "IPY_MODEL_84e0b50ab4244fb4820d4703fb4c3970",
       "tooltip": null
      }
     },
     "79ba74c790ec4b328c58e52f9816f9bf": {
      "model_module": "@jupyter-widgets/base",
      "model_module_version": "2.0.0",
      "model_name": "LayoutModel",
      "state": {
       "display": "block"
      }
     },
     "7b50136d639540db85133cfb5af47ed3": {
      "model_module": "@jupyter-widgets/output",
      "model_module_version": "1.0.0",
      "model_name": "OutputModel",
      "state": {
       "layout": "IPY_MODEL_5b2347ce33324ffda75e9503d5f2f584",
       "outputs": [
        {
         "name": "stdout",
         "output_type": "stream",
         "text": "0.019431404560929*(-0.0505094526190915*exp(0.0505094526190915*x) + 11.1222374486757*exp(-0.455014025087188*x))/(0.040910295899263*exp(0.0505094526190915*x) + exp(-0.455014025087188*x))**2\n"
        },
        {
         "data": {
          "text/html": "<div>\n<style scoped>\n    .dataframe tbody tr th:only-of-type {\n        vertical-align: middle;\n    }\n\n    .dataframe tbody tr th {\n        vertical-align: top;\n    }\n\n    .dataframe thead th {\n        text-align: right;\n    }\n</style>\n<table border=\"1\" class=\"dataframe\">\n  <thead>\n    <tr style=\"text-align: right;\">\n      <th></th>\n      <th>Parameter</th>\n      <th>Value</th>\n    </tr>\n  </thead>\n  <tbody>\n    <tr>\n      <th>0</th>\n      <td>A</td>\n      <td>11.61018</td>\n    </tr>\n    <tr>\n      <th>1</th>\n      <td>B</td>\n      <td>0.050509</td>\n    </tr>\n    <tr>\n      <th>2</th>\n      <td>C</td>\n      <td>24.443724</td>\n    </tr>\n    <tr>\n      <th>3</th>\n      <td>D</td>\n      <td>0.455014</td>\n    </tr>\n    <tr>\n      <th>4</th>\n      <td>R-squared</td>\n      <td>0.998939</td>\n    </tr>\n    <tr>\n      <th>5</th>\n      <td>RMSE</td>\n      <td>0.063782</td>\n    </tr>\n    <tr>\n      <th>6</th>\n      <td>Equation</td>\n      <td>A/(C*exp(-D*x) + exp(B*x))</td>\n    </tr>\n  </tbody>\n</table>\n</div>",
          "text/plain": "   Parameter                       Value\n0          A                    11.61018\n1          B                    0.050509\n2          C                   24.443724\n3          D                    0.455014\n4  R-squared                    0.998939\n5       RMSE                    0.063782\n6   Equation  A/(C*exp(-D*x) + exp(B*x))"
         },
         "metadata": {},
         "output_type": "display_data"
        },
        {
         "data": {
          "image/png": "iVBORw0KGgoAAAANSUhEUgAAAioAAAGwCAYAAACHJU4LAAAAOXRFWHRTb2Z0d2FyZQBNYXRwbG90bGliIHZlcnNpb24zLjcuNSwgaHR0cHM6Ly9tYXRwbG90bGliLm9yZy/xnp5ZAAAACXBIWXMAAA9hAAAPYQGoP6dpAABWTklEQVR4nO3dd3hUZcLG4d+kh5BMQnoggQCB0It0VMQCooIVBJEqa1lEwIZYsCKWtQB2UdD9FnBFwUpfqkiXDqGTQEgCpCekzZzvjyxZI6GElDNJnvu6cu3mnJOZJxPMPDnnPe9rMQzDQERERMQBOZkdQERERORCVFRERETEYamoiIiIiMNSURERERGHpaIiIiIiDktFRURERByWioqIiIg4LBezA5SF3W4nPj4eb29vLBaL2XFERETkMhiGQUZGBmFhYTg5XfycSZUuKvHx8YSHh5sdQ0RERK5AXFwc9erVu+gxVbqoeHt7A4XfqI+Pj8lpRERE5HKkp6cTHh5e9D5+MVW6qJy73OPj46OiIiIiUsVczrANDaYVERERh6WiIiIiIg5LRUVEREQcVpUeo3K5bDYb+fn5ZseQP3F1dcXZ2dnsGCIi4uCqdVExDIOEhARSU1PNjiIl8PX1JSQkRHPgiIjIBVXronKupAQFBVGrVi29IToIwzDIzs4mKSkJgNDQUJMTiYiIo6q2RcVmsxWVFH9/f7PjyF94enoCkJSURFBQkC4DiYhIiartYNpzY1Jq1aplchK5kHM/G40fEhGRC6m2ReUcXe5xXPrZiIjIpVT7oiIiIiJVV7UdoyIiIg4uJQUSEyEtDXx9ISgI/PzMTiUORmdUqpmjR49isVjYtm3bZX/NrFmz8PX1NT2HiFSClBTYtw82bICYmMLPzRAXBwMHQrNm0KULREcXfh4XZ04ecVgqKg4qLi6OkSNHEhYWhpubG/Xr12fs2LGcOXPmol8XHh7OyZMnadmy5WU/17333sv+/fvLGllEHJ2jlIOUFBg1CpYsKb59yZLC7WaVJ3FIKiqXo5L/Ajl8+DAdOnTgwIEDzJkzh4MHD/LJJ5+wfPlyunbtSnJycolfl5eXh7OzMyEhIbi4XP5VPU9PT4KCgsorvog4IkcqB4mJ5+f4c57ExMrLIg5PReVSTPgLZPTo0bi5ubFkyRJ69OhBREQEffr0YdmyZZw4cYLnnnsOgAYNGvDqq68ydOhQfHx8ePDBB0u85PLjjz8SFRWFh4cHPXv25KuvvsJisRTN2PvXSz8vvfQSbdu25Z///CcNGjTAarUycOBAMjIyio5ZtGgRV199Nb6+vvj7+3Pbbbdx6NChCntNRKSMyqkcGIZBRk4+x1OyOZiUwe74NP6ITWHD4TOsOXCKFTFJrN5/it8Onub3Q2fYdDSZrbEp7EtIJy45m5SsPPJSUi/+JGlppfvepFrTYNqLudRfIHPnlvvAr+TkZBYvXszkyZOLJkU7JyQkhMGDB/PNN9/w0UcfAfCPf/yDSZMm8eKLL5b4eEeOHOGee+5h7NixjBo1ij/++IMnn3zykjkOHTrEggUL+Pnnn0lJSWHAgAG88cYbTJ48GYCsrCwef/xxWrduTWZmJpMmTeLOO+9k27ZtODmp/4o4nEu8+RupqZzJzOXo6SxOpuVwMu1s4f+m5pCUkUPq2XzSsvNJO5tPgd0ocxy3J+ZTOy+bOtlpBGSlEpCdWvS/gYkW6h44TT0/T0J9PXB30YSQNZmKysVczl8g5VxUDhw4gGEYNGvWrMT9zZo1IyUlhVOnTgFw/fXX88QTTxTtP3r0aLHjP/30U5o2bcrbb78NQNOmTdm1a1dR4bgQu93OrFmz8Pb2BmDIkCEsX7686OvuvvvuYsd/+eWXBAYGsmfPnlKNjxGRSmK1Fv3fZE8fdoY0Zk9QJIf863GoTjiHf00hbcGyy344N2cnPN2ccXNxws3ZCXcXJ9xcnHB2smCzG9gNA5u98KPAbnA2z0ZmbgG5BXYA8lxcSXaxklzLysGAiOIPvu5U4QdgsUCQtzv1/GpRz8+TyAAvGgXWpnFQbSIDvPBwVYmp7lRULuZSpx8r8PSkYVzeXywdOnS46P6YmBg6duxYbFunTp0u+bgNGjQoKilQuB7PubV5oLBQTZo0iQ0bNnD69Gns9sJfPrGxsSoqIg4kJ9/GtrhUthzOZ+dD77PT4sMJawlj0vLsWCwQZvWkrm/hmYwQqwdhVk+Cfdzxq+WGtZYrvp5u+NZyveKCkG+zk51rI/NoLBkTXyB5225Oefly2suXMy3acbpnLxJtLpxIPcvxlGxy8u0kpueSmJ7LlmPFx9FYLBDuV4tGgV40CfGmeagPLcKsRAZ44exUigkldZu0QzO9qJw4cYIJEyawcOFCsrOzady4MTNnzrzkG3Cl+NNfIFe0/wo0btwYi8XC3r17ufPOO8/bv3fvXvz8/AgMDATAy8ur3DMAuLq6FvvcYrEUlRGAvn37Ur9+fT7//HPCwsKw2+20bNmSvLy8CskjIpcnt8DGlmMprD+czIbDZ/gjLpW8/57FwLdx0XENzxynReIhonzdaDTiXhpG16+UMxSuzk5Yazlhbd4IZn34v4JgtUJwcLGCYBgGyVl5HE85y/GUs8SlZHP4VCYHkwo/0nMKiE3OJjY5mxUxp4q+ztPVmWah3rQIs9I8zIc29XxpGuJdcnmJizv/En+vXjBjBoSHV+RLIZfJ1KKSkpJC9+7d6dmzJwsXLiQwMJADBw7g5yhNNji48B9sSZd/evUq3F/O/P39uemmm/joo48YP358sXEqCQkJ/Otf/2Lo0KGXPf1806ZN+fXXX4tt27RpU5kynjlzhpiYGD7//HOuueYaANauXVumxxSRK5eUkcPKfaf4z74k1hw4RVaerdj+QG93OkXWoW09X1pZnWhhycb7bABYe5xXDiqVn99Fn9tiseBf2x3/2u60Cfctts8wDE5n5nHoVCYHkjLZdzKd3fHp7EtI52y+ja2xqWyNTS063svNmTbhvrSP8KN9fV/ahvtRJy+r0schSumZWlTefPNNwsPDmTlzZtG2yMhIExP9hZ9fYau+UNuuoH/AH3zwAd26daN379689tprREZGsnv3bp566inq1q17yfElf/bQQw/x7rvvMmHCBB544AG2bdvGrFmzgCtfa8fPzw9/f38+++wzQkNDiY2N5ZlnnrmixxKRK3Mi9Sw/bY9n4c6TbD9e/DJ0oLc73Rr506WhP50j6xAZ4FXt1tayWCwEersT6O1Ol4b+RdttdoMjpzPZHV9YXHadSGPH8TQycwtYd+gM6w79by6qSB9XOjg3o2uLfLrE7iQs4/T/nqCCxiFK6ZlaVH788Ud69+5N//79WbVqFXXr1uXvf/87f/vb30o8Pjc3l9zc3KLP09PTKz5keHhhq77I6cnyFhUVxebNm3nxxRcZMGAAycnJhISEcMcdd/Diiy9Sp06dy36syMhI5s2bxxNPPMHUqVPp2rUrzz33HI888gju7u5XlM/JyYm5c+fy2GOP0bJlS5o2bcq0adO47rrrrujxROTynM7M5dedJ/lxWzyb/zJeo009K9dHB3N9dBAtwnxwKs0YjWrE2clC4yBvGgd5c3vbukBheTmQlMHWY6lsjU1ha2wKh09lcSQ9nyOtb+Lb1jcBUD8lni6xO+kau5MusTsJ0W3SDsFiXO6ozQrg4eEBwOOPP07//v3ZtGkTY8eO5ZNPPmHYsGHnHf/SSy/x8ssvn7c9LS0NHx+fYttycnI4cuQIkZGRRc8jhSZPnswnn3xCnMlTVetnJHJpNrvB6v2nmL0xlv/sS8L231uDLRbo1KAOfduE0at5MEE++m+oNFKz8/hj3U42vDad3yNaszOkMXan4uNzIn1cubp5GD2aBNK1kT9e7qYP66w20tPTsVqtJb5//5WpRcXNzY0OHTqwbt26om2PPfYYmzZt4vfffz/v+JLOqISHh6uoXMJHH31Ex44d8ff357fffmPMmDE8+uijvPbaa6bm0s9I5MIS0nL4ZlMc32yKJT4tp2h7m3pW+rYJ47bWYYRY9d9NmaSkFE7guWQJGW6ebK7XgvURrfg9ohW7Qhpjt/xvTihXZwsd6tehR9NAejQJJDrEu9pdTqtMpSkqptbD0NBQmjdvXmxbs2bN+O6770o83t3d/YovV9RkBw4c4LXXXiM5OZmIiAieeOIJJk6caHYsESnBrhNpfL7mML/sOFk0sZpvLVfubl+PQZ3CaRzkfYlHkMv2p3GI3kuW0PPwZnoe3gy9epH+wqdsyPNk9f5TrNyfRFzyWX4/fIbfD5/hjYX7CPJ259omgVwfHcS1TQKprbMtFcbUV7Z79+7ExMQU27Z//37q169vUqLq6b333uO9994zO4aIXIDdbvCffUnMWHuY9Yf/t5ZXpwZ1GNwlgt4tQjSxWUW5wDhEHz8/bgJuah6MYRgcPZPN6v2nWLX/FOsOnSYpI5d5W44zb8tx3Jyd6NbYnxubBXNT82CCdRmuXJlaVMaPH0+3bt14/fXXGTBgABs3buSzzz7js88+MzOWiEilsNsNFu9OYOryA+xLKFxLy8XJwm2tQ3ng6oa0qlf+czVJCS7jNunIAC8iA7wY1q0BOfk2Nh9NYUVMEsv2JnLsTDYrY06xMuYUzy/YRZt61sLS0iKYpsGlvESkyefOY+oYFYCff/6ZiRMncuDAASIjI3n88ccveNfPX13sGpfGPzg+/YykprLbDRbtTmDqsgPEJBYWlNruLgzuHMGwbg0I8/W8xCOIozAMg4NJmSzdm8jSPYlsi0vlz++q4XU86d08hFtah9Iu3PfipaUGTT5XZQbTlpWKStWmn5HUNIZhsGr/Kd5YuK/oDIq3uwsjujdg5NWR+NZyMzmhlFVSRg7/2ZvE0j2JrD14umhtI4Awqwd9WoVyS6vC0lLsFvI/Dew9T69e1W7yORUV9CZYFehnJDXJ7vg0pvy6j7UHCycV83Z3YcTVkTzQPRJrLddLfLVURdl5Bazef4pfdyawfG9isRmDQ60e9GkZyq2tQ2gX7ofT/hi4wGK0AOzdC9HRlZC6clSZu35ERKq7hLQc3lq8j/l/nMAwClcdHtq1Po9e31hnUKq5Wm4u3NwylJtbhpKTb2PV/lMs3HmSZXuTOJmWw5e/HeHL344Q4uNBn0C4PbQJbU7up8SLQzV48jkVlSrkuuuuo23btrz//vuV8nyzZs1i3LhxpKamVsrziVQn+TY7s347yvvL9hf9Jd23TRhP925KeJ1aJqeTyubh6kzvFiH0bhFCTr6NNQdO8+vOkyzbk0hCeg4z02Hm0HdpkBxPv70ruWP3ShqmxP/vASpgEdyqQkXFAQ0fPpyvvvrqvO0bNmyg2Z9ODTZo0IBx48Yxbty4om0qFyLmW3/4DJN+2MX+xEwA2oXV5sV2Vtq65cKpOLDoTo6azMPVmZuaF97KnFtgY83+0/y0+ShLdp7kaJ0wpnW/j2nd76P1yf3027OKfkEWgipgEdyqQkXFQd18883FFmsECAwMxNlZcymIOKqUrDxe/WUP3289AYBfLVee6RxM/3efxmls9b+TQ0rP3cWZG5sHc2PzYLIOHWXpc+/yg60OqyPbsyO0CTtCm/C6Bbp9t59+bcO4uWUIPh41a0yT06UPETO4u7sTEhJS7OOGG24oOnty3XXXcezYMcaPH4/FYsFisbBy5UpGjBhBWlpa0baXXnoJKFx+4Mknn6Ru3bp4eXnRuXNnVq5cWew5Z82aRUREBLVq1eLOO+/kzJkziMjlWbjzJDe9t4rvt57AYoH7Okfwn1Ftuffdp3H6650cS5YU3oaaklLyg0mN5NWoAXd8/DIzXx3IxtsCeaVzAFfV9cZuwNqDp3l63g46vLaM0bO3siImiQKb/dIPWg3UqDMqhmFwNt926QPLmaerc7mvCfH999/Tpk0bHnzwwaJ5Z+rUqcP777/PpEmTimb8rV27NgCPPvooe/bsYe7cuYSFhTF//nxuvvlmdu7cSVRUFBs2bOCBBx5gypQp3HHHHSxatIgXX3yxXDOLVEenM3OZ9MMuft2ZAEBUUG3evKc17SP8YN++km83hcLtiYm6BCTF/XfyOf9oGErhR1xyNj9sO8GCbfEcTMrklx0n+WXHSYK83bmzfV3uaV+PqODqu7RCjSoqZ/NtNJ+0uNKfd88rvanlVrqX+ueffy4qGQB9+vQptr9OnTo4Ozvj7e1NSEhI0Xar1YrFYim2LTY2lpkzZxIbG0tYWBgATz75JIsWLWLmzJm8/vrrTJ06lZtvvpmnn34agCZNmrBu3ToWLVpU6u9XpKZYuPMkz87fSUp2Ps5OFh7p0YgxNzTG3eW/l2gvdadGDb6TQy5feJ1aPHp9FKN7NmZ3fDrzthznh20nSMrI5dNVh/l01WHahPtyz1X16Nc6rNrd7l6jikpV0rNnTz7++OOiz728vBg0aNAVPdbOnTux2Ww0adKk2Pbc3Fz8/f0B2Lt3L3feeWex/V27dlVRESlBVm4Br/y0h282xwHQLNSHt+9pTcu6f7kz41J3atTgOzmk9CwWCy3rWmlZ18qztzTjP/uSmLflOCtiktgel8r2uFRe/WkPN7UI5p6r6nFN4wBcnKv+CI8aVVQ8XZ3Z80pvU563tLy8vGjcuHG5PH9mZibOzs5s2bLlvMG4fz5rIyKXtuN4KmPnbuPI6SwsFvj7dY0Yd2MTXEt6QwgOLhw4e6HZRmvwnRxSNm4uTtzcMoSbW4ZwKiOXH7adYN6W4+xLyDjv0tCADuE0Cqy6v+trVFGxWCylvgTjyNzc3LDZbJfc1q5dO2w2G0lJSVxzzTUlPlazZs3YsGFDsW3r168v38AiVZjdbvDp6sO8sySGArtBqNWD9+5tS5eG/hf+Ij+/wrt7LrR+i8anSDkI9HZn1DUNeeDqSHbHp/Pd1uP8sC2+2KWhTg3qMLBTOLe0Cq1yK3FXn3ftGqhBgwasXr2agQMH4u7uTkBAAA0aNCAzM5Ply5fTpk0batWqRZMmTRg8eDBDhw7lnXfeoV27dpw6dYrly5fTunVrbr31Vh577DG6d+/OP/7xD26//XYWL16syz4i/5WSlcfYb7axev8pAG5pFcLrd7a6vJllw8ML12k5tyKu1Vp4JkUlRcrZny8NTexTeGno281xrIhJYuPRZDYeTebFH3dzZ7u6DOwYQfOwi09d7yiq/sWrGuyVV17h6NGjNGrUiMDAQAC6devGww8/zL333ktgYCBvvfUWADNnzmTo0KE88cQTNG3alDvuuINNmzYREREBQJcuXfj888+ZOnUqbdq0YcmSJTz//POmfW8ijmLH8VRum76W1ftP4eHqxJt3t+LD+9qXbvp7P7/CdVo6dy78X5UUqWDnLg19Mbwj6565gSduakI9P08ycgr4+vdj3DJtDf0+WMvsDbFk5OSbHfeitCihmEY/I3FkhmEwZ2McL/24mzybnQb+tfj4/qtoFlo1/goV+Su73eC3Q6eZuymOJbsTyLcVvv3XcnPmttah3NsxgvYRvuU+nUZJtCihiEgZ5OTbeH7BLuZtOQ7ATc2DeWdAmxo3I6hUL05OFq6JCuSaqEDOZOYy/48TzNkYy6FTWfx783H+vfk4TYJrc2/HCO5qVxc/L8dYNFNnVMQ0+hmJI0pKz+FvX29m+/E0nCzwVO9oHrq2IU5OFf9XpkhlMwyDLcdSmLMxjl92xpOTXzjbrZuLE7e0DOG+zvXp2MCv3M+y6IyKiMgV2HUijb99vZmTaTn41nLlw/va071xgNmxRCqMxWKhQ4M6dGhQhxf7NeeHbfHM3RjL7vh0FmyLZ8G2eK4JcuWft9aHIHMW09RgWhERYNGuBPp/8jsn03JoFOjFgr93V0mRGsXHw5UhXerz85ir+eGextx7ejeeeTm0//6rwkHgAwdCXFyl56r2Z1Sq8JWtak8/G3EEhmHw8apDvLWocH2sa6IC+OC+9lg9NR5FaiZLaiptnnuMNkuW8JxbLYxzl33OLaY5d26lnlmptkXF1bXwl0x2djaenp4mp5GSZGdnA//7WYlUtgKbnecX7GLupsK/Eod2rc+k25pXi2nHRa5YYmLRBIU+ednF95mwmGa1LSrOzs74+vqSlJQEQK1atSrlliu5NMMwyM7OJikpCV9f3/Om9RepDGfzbIyZs5Vle5NwssBL/VowtGsDs2OJmM/BFtOstkUFKFpB+FxZEcfi6+tbbJVnkcqSkpXHA19tYmtsKu4uTkwb1I7eLfRvUQRwuMU0q3VRsVgshIaGEhQURH6+Y8+8V9O4urrqTIqY4nhKNsO+3MihU1n4eLjwxfCOdGxQx+xYIo7DwRbTrNZF5RxnZ2e9KYoI+xMzGPLFBhLTcwm1evDVyE40CfY2O5aIY3GwxTRrRFEREdl1Io0hX2wgJTufJsG1+WpkJ0KtGmgvUiIHWkxTRUVEqr0tx1IYPnMjGTkFtKln5auRnUq3qKBITeTn5xALaKqoiEj1lJICiYn8fvAUD6zPILvAoGMDP74c3hFvrdkjUmVosgARqX7i4mDgQFbdMpjhK06RXWDQPSOWr3rVVUkRqWJUVESkeklJgVGj+M/BZP521wvkurpz/cGNfPHpWGo98mDhfhGpMlRURKR6SUxk5YHTPHznc+S5uNIn5jc+mf86Hrb8/82qKSJVhsaoiEi1svbAKR686/mikjLtx7dwtdv+d0Alz6opImWjMyoiUm38fugMo9ZnkOfixo0H1jP1x7eLlxSo9Fk1RaRsVFREpFrYeCSZkbM2kWMz6Jl2hA9/eAM3e0Hxg0yYVVNEykZFRUSqvG1xqYyYuZGz+TauiQrg46f74n7D9cUPMmlWTREpG41REZEqbX9iBsNnbiQrz0a3Rv58PrQDHq7ODjOrpoiUjYqKiFRZccnZDPliA6nZ+bQN9/1fSQGHmVVTRMpGl35EpEo6lZFbtMBgVFBtZg7viJe7/vYSqW5UVESkyknPyWfYlxs5eiaben6e/POBzvh5ae0ekepIRUVEqpScfBujvtrMnpPpBNR2458PdCbE6mF2LBGpICoqIlJl2OwGY+b8wcYjyXi7uzBrRCciA7zMjiUiFUhFRUSqBMMwePmn3Szdk4ibixMzhnWgZV1N3iZS3amoiEiVMGPNEb7+/RgWC0y9ty2dG/qbHUlEKoGKiog4vF92nGTyr3sBeO6WZvRpFWpyIhGpLCoqIuLQNh9NZvy/twEwvFsDHrg60txAIlKpVFRExGEdPpXJqK83k1dg56bmwbxwW3MsFovZsUSkEqmoiIhDOpOZy/CZm0jNzqdNuC/TBrbD2UklRaSmUVEREYeTV2Dnkf/bSmxyNuF1PPliWAc83ZzNjiUiJlBRERGHYhgGLyzYxcajhXOlzBzekYDa7mbHEhGTqKiIiEOZ+dtRvtkch5MFpt3XjsZB3mZHEhETqaiIiMNYtf8Ur/2yB4Bnb2lGz6ZBJicSEbOpqIiIQziYlMmjs7diN6D/VfV0G7KIACYXlZdeegmLxVLsIzo62sxIImKC1Ow8Rn21iYycAjrU9+O1O1vqNmQRAcDF7AAtWrRg2bJlRZ+7uJgeSUQqUYHNzujZWzl6Jpu6vp58MuQq3F10h4+IFDK9Fbi4uBASEmJ2DBExyVuLY/jt4BlquTkzY1gH3eEjIsWYPkblwIEDhIWF0bBhQwYPHkxsbOwFj83NzSU9Pb3Yh4hUXT/viOez1YcB+Ef/NjQL9TE5kYg4GlOLSufOnZk1axaLFi3i448/5siRI1xzzTVkZGSUePyUKVOwWq1FH+Hh4ZWcWETKS0xCBk/P2wHAQz0acosWGhSRElgMwzDMDnFOamoq9evX59133+WBBx44b39ubi65ublFn6enpxMeHk5aWho+PvpLTKSqSM/J5/YPfuPI6Sy6N/bnqxGdcHE2/QSviFSS9PR0rFbrZb1/mz5G5c98fX1p0qQJBw8eLHG/u7s77u66fi1SldntBo9/s50jp7Oo6+vJtIHtVFJE5IIc6rdDZmYmhw4dIjRUp4BFqqsPVxxk2d5E3Fyc+Pj+9vhr8KyIXISpReXJJ59k1apVHD16lHXr1nHnnXfi7OzMoEGDzIwlIhVkRUwS7y7bD8Brd7SkdT1fcwOJiMMz9dLP8ePHGTRoEGfOnCEwMJCrr76a9evXExgYaGYsEakAx1OyGTd3G4YBgztHMKCDBsOLyKWZWlTmzp1r5tOLSCXJK7Dz6Ow/SDubT5t6Vib1bW52JBGpIhxqjIqIVE9vLtrHtrhUfDxc+OC+9pp5VkQum4qKiFSoxbsT+GLtEaBwUrfwOrVMTiQiVYmKiohUmLjkbJ76djsAo66OpFcLLZchIqWjoiIiFaJwXMpW0nMKaBfhy4Q+WhldREpPRUVEKsTrv+5l+/E0rJ6ufHBfe1w1qZuIXAH95hCRcrdw50lmrTsKwLsD2lDX19PcQCJSZamoiEi5ijtykqf/vQ2Ah1r6ckOIm7mBRKRKU1ERkXKTfzSWx979hYx8O1cd38OTw3rAwIEQF2d2NBGpolRURKR8pKQw7aUv+MMrFO+cTKb+9DaudhssWQKjRkFKitkJRaQKUlERkXKxfvtRPgjuAMCUxR9QL/3U/3YuWQKJiSYlE5GqTEVFRMosNTuP8asSMCxO9N+xlNv2rT3/oLS0yg8mIlWeioqIlIlhGDzz3U5OnrXT8MxxXlr2ackHWq2VG0xEqgUVFREpkzkb41i0OwFXJwtTT63BKz/n/IN69YLg4MoPJyJVnoqKiFyxg0kZvPLzbgCeurkpraZPKSwlf9arF8yYAX5+JiQUkarOxewAIlI15eTbGDNnGzn5dq6JCmDU1Q3ByQJz5xYOnE1LK7zcExyskiIiV0xFRUSuyFuLYth7Mh1/LzfeGdAGJydL4Q4/PxUTESk3uvQjIqW25sApvvztCABv929NkLeHyYlEpLpSURGRUknNzuPJb7cDMKRLfa6P1iBZEak4KioiUiov/LCbxPRcGgZ48ewtzcyOIyLVnIqKiFy2H7ad4Kft8Tg7WXjv3rZ4ujmbHUlEqjkVFRG5LCfTzvLCgl0AjLm+MW3Cfc0NJCI1goqKiFyS3W7w9LwdpOcU0KaeldE9G5sdSURqCBUVEbmkr38/ypoDp/FwdeLde9vi6qxfHSJSOfTbRkQu6mBSBlMW7gPg2Vua0SiwtsmJRKQmUVERkQvKt9kZ/812cgvsXNskkCFd6psdSURqGBUVEbmg6csPsPNEGlZPV96+pzUWi8XsSCJSw6ioiEiJtsWl8uHKQwBMvrMlwT6afVZEKp+KioicJyffxhP/3obNbtCvTRi3tQ4zO5KI1FAqKiJynveW7efQqSwCvd15uV8Ls+OISA2moiIixWyNTeHz1YcBeP3OVvh5uZmcSERqMhUVESmSk2/jyW+3YzfgznZ1uam5FhwUEXOpqIhIkXeWxHD4VBZB3u682Le52XFERMpeVHJzc8sjh4iYbMuxZGasPQLAlLta4VtLl3xExHylLioLFy5k2LBhNGzYEFdXV2rVqoWPjw89evRg8uTJxMfHV0ROEalAZ/NsPPntDgwD7m5fjxua6ZKPiDiGyy4q8+fPp0mTJowcORIXFxcmTJjA999/z+LFi5kxYwY9evRg2bJlNGzYkIcffphTp05VZG4RKUf/WBLDkdNZBPu4M0mXfETEgVgMwzAu58CuXbvy/PPP06dPH5ycLtxvTpw4wfTp0wkODmb8+PHlFrQk6enpWK1W0tLS8PHxqdDnEqmuNh1NZsCnv2MYMHN4R3pGB5kdSUSqudK8f192UXFEKioiZXM2z0afqas5eiab/lfV4+3+bcyOJCI1QGnev8v1rp/Dhw/Tq1ev8nxIEalAby3ex9Ez2YT4ePD8bbrkIyKOp1yLSkZGBsuXLy/PhxSRCrLxSDIzfzsKwBt3t8Lq6WpuIBGREmgeFZEaKCffxjPf7wBgQId6XNdU41JExDGpqIjUQB+tOMjhU1kE1HbnuVt0yUdEHJeKikgNsz8xg49XHQLg5X4tsNbSJR8RcVwupTm4Xbt2WCyWC+7Pzs4ucyARqTh2u8Ez3+0g32ZwY7MgbmkVYnYkEZGLKlVRueOOOyoohohUhv/bcIytsal4uTnzyu0tL/qHh4iIIyhVUXnxxRcrKoeIVLD41LO8tSgGgAl9ognz9TQ5kYjIpZWqqIiIg0pJgcRESEsDX18ICgI/v6LdhmEw6YddZOYW0D7Cl/s71zcvq4hIKVzRYNozZ84wevRomjdvTkBAAHXq1Cn2ISKVKC4OBg6EZs2gSxeIji78PC6u6JBfdyawbG8Srs4W3ri7NU5OuuQjIlXDFZ1RGTJkCAcPHuSBBx4gODhY17lFzJKSAqNGwZIlxbcvWVK4fe5c0txr8+KPuwF4pEcjmgR7mxBUROTKXFFRWbNmDWvXrqVNG60LImKqxMTzS8o5S5ZAYiJTdsdxOjOXhoFe/L1n48rNJyJSRldUVKKjozl79mx5ZxGR0kpLu+ju9YdOM3dT4TFv3NUaD1fnykglIlJurmiMykcffcRzzz3HqlWrOHPmDOnp6cU+RKSSWK0X3JXj7Mqz2wvnNhrUKYJOkRo/JiJVzxUVFV9fX9LT07n++usJCgrCz88PPz8/fH198fvTnQal8cYbb2CxWBg3btwVfb1IjRQcDBdYsfyD+ydyOD2fIG93nukTXcnBRETKxxVd+hk8eDCurq7Mnj27XAbTbtq0iU8//ZTWrVuX6XFEahw/P5gx47wBtfv6DeKTsE5g/+80+VoZWUSqqCsqKrt27eKPP/6gadOmZQ6QmZnJ4MGD+fzzz3nttdfK/HgiNU54OMydWzSPis3bhwlLkyg4mUmv5sHc3FLT5ItI1XVFl346dOhA3J/maCiL0aNHc+utt3LjjTde8tjc3FyNhxEpiZ9f4fwpnTvzdYoH209m4u3uomnyRaTKu6IzKmPGjGHs2LE89dRTtGrVClfX4qeVL/cSzty5c9m6dSubNm26rOOnTJnCyy+/XOq8IjXFidSzvL24cJr8p/tEE2L1MDmRiEjZWAzDMEr7RU5O55+IsVgsGIaBxWLBZrNd8jHi4uLo0KEDS5cuLSo21113HW3btuX9998v8Wtyc3PJzc0t+jw9PZ3w8HDS0tLw8fEp7bchUq0YhsEDX23mP/uS6FDfj38/1FUz0IqIQ0pPT8dqtV7W+/cVnVE5cuTIFQX7sy1btpCUlET79u2LttlsNlavXs0HH3xAbm4uzs7F53xwd3fH3d29zM8tUh39vOMk/9lXOE3+lLtaqaSISLVQqqIyadIkbr/9dq666qoyP/ENN9zAzp07i20bMWIE0dHRTJgw4bySIiIXlpqdx8s/FU6T//frGhOlafJFpJooVVE5fvw4ffr0wc3Njb59+9KvXz9uuOEG3NzcSv3E3t7etGzZstg2Ly8v/P39z9suIhf3+q97OZ2ZR+Og2vy9ZyOz44iIlJtS3fXz5ZdfkpCQwJw5c/D29mbcuHEEBARw99138/XXX5OcnFxROUXkAtYdPM2/Nx8HYMpdrXB30dlIEak+rmgw7Z/t3buXn376iR9++IEtW7bQqVMn+vXrx6BBg6hbt2555SxRaQbjiFRHOfk2er+/mmNnshncOYLJd7YyO5KIyCWV5v37iuZR+bNmzZrx9NNP89tvvxEXF8ewYcNYs2YNc+bMKetDi8glTF1+gGNnsgn2cWeCpskXkWqoVGNUbDYbu3fvJioqCk9Pz2L7zp49y8mTJxkxYgQPPPBAuYYUkfPtiU/ns9WHAXjl9pb4eGiafBGpfkp1RuWf//wnI0eOLHHwrKurKyNHjmT27NnlFk5ESmazG0z8fgc2u8HNLULo3ULT5ItI9VSqovLFF1/w5JNPlnjrsIuLC08//TSfffZZuYUTkZLNWneU7cfT8PZw4eXbW5gdR0SkwpSqqMTExNClS5cL7u/YsSN79+4tcygRubDjKdm8s6Rwmvxn+kQT7KNp8kWk+ipVUcnKyrroQoAZGRlkZ2eXOZSIlMwwDJ5fsIvsPBudGtRhUMcIsyOJiFSoUhWVqKgo1q1bd8H9a9euJSoqqsyhRKRkP26PZ2XMKdycnXhd0+SLSA1QqqJy33338fzzz7Njx47z9m3fvp1JkyZx3333lVs4EfmflKw8XvlpDwCjezamcVBtkxOJiFS8Ut2ePH78eBYuXMhVV13FjTfeSHR04bwN+/btY9myZXTv3p3x48dXSFCRmu61X/ZyJiuPqKDaPHKdpskXkZqhVEXF1dWVJUuW8N577zF79mxWr16NYRg0adKEyZMnM27cOFxdNZeDSHlbe+A03209jsUCb9zdGjeXMs/VKCJSJZRqCn2bzeZQqxprCn2pCc7mFU6TH5uczdCu9Xnldi3aKSJVW4VNoV+3bl2eeeYZDhw4UKaAInL53l++n9jkbEJ8PHiqd1Oz44iIVKpSFZXRo0czb948oqOjueaaa5g1a5ZuRxapQLtOpDFjzREAXr2jJd6aJl9EaphSFZUXXniBgwcPsnz5cho2bMijjz5KaGgof/vb39iwYUNFZRSpkQpsdiZ+vxOb3eCWViHc1DzY7EgiIpXuikbkXXfddXz11VckJCTwzjvvsHfvXrp27UqLFi149913yzujSI00a91Rdp4onCb/pb6aJl9EaqZSDaa9mF9++YWhQ4eSmpqKzWYrj4e8JA2mleoqLjmbXu+t5my+jSl3tWJQJ81AKyLVR4UNpv2r7OxsZs2aRY8ePejXrx/+/v5Mnjy5LA8pUuMZhsGz83dyNt9Gp8g63Nsh3OxIIiKmKdU8KuesW7eOL7/8km+//ZaCggLuueceXn31Va699tryzidS4yzYdoI1B07j5uLEFE2TLyI1XKmKyltvvcXMmTPZv38/HTp04O2332bQoEF4e3tXVD6RGiU5K49Xfy5cgfyx6xvTKFDT5ItIzVaqovL2229z//338+2339KypSadEilvr/28h+SsPJoGe/PgtZomX0SkVEUlPj5eU+SLVJDV+0/x/R8n/jtNfitNky8iQikH06qkiFSM7LwCnluwE4BhXRvQLsLP5EQiIo5Bf7KJOID3lx0gLvksYVYPntQ0+SIiRVRURExWOE3+YaBwmvza7ld0M56ISLWkoiJiogKbnQnf7cBuwK2tQ7mhmabJFxH5szL96VZQUMCKFSuIjY2lfv369OzZE2dn5/LKJlLtfbH2CLvj0/HxcOHFvs3NjiMi4nBKVVTGjBlD7969ue222zh+/Dg33XQTBw4cICAggNOnT9O8eXMWLlxI3bp1KyqvSLUReyab95btB+D5W5sT5O1hciIREcdTqks/3377LQ0aNADgiSeeoF69eiQkJJCQkEBSUhL169dn3LhxFRBTpHo5N01+Tr6drg396d+hntmRREQcUqnOqKSlpeHl5QUUTqP/3XffERAQAECdOnWYMmUKPXv2LP+UItXM91tPsPZg4TT5r9/VCotF0+SLiJSkVGdUmjRpwsaNGwHw9vYmPT292P6MjAzsdnv5pROphs5k5vLaL3sAGHtDFJEBXiYnEhFxXKU6ozJ+/HiefPJJgoODmThxIo899hjTp0+nWbNmxMTEMHbsWO66666KyipSLbz68x5SsvOJDvHmwWsbmh1HRMShlaqoDB8+nOTkZG699VYMw8Bms9GrV6+i/f369eO9994r95Ai1cXKmCQWbIv/7zT5rXF11gwBIiIXYzEMwyjtF6WmprJ06VIOHz6M3W4nNDSU7t27ExUVVREZLyg9PR2r1UpaWho+Pj6V+twipZWVW0Cv91ZzIvUsI7o34MW+LcyOJCJiitK8f1/RPCq+vr7079//isKJ1FTvLt3PidSz1PX15MlemiZfRORylOq881tvvcXZs2eLPv/tt9/Izc0t+jwjI4O///3v5ZdOpJrYHpfKzN+OAPDaHS3x0jT5IiKXpVRFZeLEiWRkZBR93qdPH06cOFH0eXZ2Np9++mn5pROpBvJtdp75fid2A/q1CaNndJDZkUREqoxSFZW/Dme5guEtIjXOjDVH2HsyHd9arkzSNPkiIqWiWw5EKtCR01m8/99p8p+7pRkBtd1NTiQiUrWoqIhUEMMwmPj9DnIL7HRv7M89V2mafBGR0ir1iL4ZM2ZQu3ZtoHD15FmzZhVNo//n8SsiNd2/N8ex/nAyHq5OvH6npskXEbkSpZpHpUGDBpf1y/bIkSNlCnW5NI+KOKqk9BxufHcV6TkFPHtLNA9e28jsSCIiDqPC5lE5evRoWXKJ1Bgv/bSb9JwCWtW1MrJ7pNlxRESqLI1RESlni3cn8OvOBJydLLxxdytcNE2+iMgVK9ffoImJibzyyivl+ZAiVUra2XxeWLALgAevbUiLMKvJiUREqrZyLSoJCQm8/PLL5fmQIlXKm4v2kZSRSwP/Woy9oXLXvhIRqY5KNUZlx44dF90fExNTpjAiVdmGw2eYvSEWgCl3tcbD1dnkRCIiVV+pikrbtm2xWCwlzkh7brtuwZSaKCffxsTvdwIwqFM4XRv5m5xIRKR6KFVRqVOnDm+99RY33HBDift3795N3759yyWYiMNLSYHEREhLY/ohG4dPZxHo7c4zfZqZnUxEpNooVVG56qqriI+Pp379+iXuT01N1fo/UjPExcGoUbBkCXsCI/l02Hvg7MKr3UOwerqanU5EpNooVVF5+OGHycrKuuD+iIgIZs6cWeZQIg4tJaWopNgsTjzTZwwFzi70jlnHzX9MgzZzwc/P7JQiItVCqYrKnXfeedH9fn5+DBs2rEyBRBxeYiIsWQLAzKv6siO0Cd45mbyy7BPITC7cr6IiIlIuTJ2J6uOPP6Z169b4+Pjg4+ND165dWbhwoZmRRC4tLQ2AOGsw71wzBIBnV84kODO52H4RESm7yy4qb7zxBtnZ2Zd17IYNG/jll18ueVy9evV444032LJlC5s3b+b666/n9ttvZ/fu3ZcbS6TyWa0YwLO9R3PWzYPOsTu5d/uSYvtFRKR8XHZR2bNnD/Xr1+fvf/87Cxcu5NSpU0X7CgoK2LFjBx999BHdunXj3nvvxdvb+5KP2bdvX2655RaioqJo0qQJkydPpnbt2qxfv/7KvhuRyhAczHcDH2NNZHvcCvKYsmg6Tvx3EHmvXhAcbG4+EZFq5LLHqHz99dds376dDz74gPvuu4/09HScnZ1xd3cvOtPSrl07Ro0axfDhw/Hw8ChVEJvNxrfffktWVhZdu3Yt8Zjc3Fxyc3OLPk9PTy/Vc4iUhyRnT15p0gdybYz9bQ4NU+ILd/TqBTNmaHyKiEg5shhXcD+x3W5nx44dHDt2jLNnzxIQEEDbtm0JCAgodYCdO3fStWtXcnJyqF27NrNnz+aWW24p8diXXnqpxCn6L2eZaJHyYBgGD/1zC0v2JNIy2Iv5vYNxzUgvvNwTHKySIiJyGdLT07FarZf1/n1FRaU85eXlERsbS1paGvPmzWPGjBmsWrWK5s2bn3dsSWdUwsPDVVSk0vy8I55HZ/+Bi5OFHx+9muZh+ncnIlJapSkqpbo9uSK4ubnRuHFjoHBCuU2bNjF16lQ+/fTT8451d3fH3d29siOKAHAmM5dJPxQO9P57z8YqKSIilcDU25NLYrfbi501EXEUL/20h+SsPJoGe/Noz8ZmxxERqRFMPaMyceJE+vTpQ0REBBkZGcyePZuVK1eyePFiM2OJnGfx7gR+2h6PkwXe7t8aNxeH6/giItWSqUUlKSmJoUOHcvLkSaxWK61bt2bx4sXcdNNNZsYSKSY1O4/nF+wC4MFrG9G6nq+5gUREapArLiqGYXDmzBksFgv+/le2pP0XX3xxpU8vUmle/XkvpzJyaRjoxbgbo8yOIyJSo5T6/HVCQgJDhw7Fz8+P4OBggoKC8PPzY+TIkSQmJlZERhHTrIhJ4rutx7FY4O17WuPh6mx2JBGRGqVUZ1TS09Pp1q0bmZmZjBgxgujoaAzDYM+ePcyZM4e1a9eydetWateuXVF5RSpNek4+z36/E4AR3SK5qn4dkxOJiNQ8pSoqU6dOxdnZmd27dxMYGFhs3/PPP0/37t2ZNm0azz77bLmGFDHDlF/3cTIth/r+tXiqd1Oz44iI1EiluvTzyy+/8Oyzz55XUgCCgoKYOHEiP/30U7mFEzHLbwdPM2djLABv3NUaTzdd8hERMUOpisr+/fvp1q3bBfd369aNmJiYMocSMVNWbgETvtsBwP1dIuja6MoGi4uISNmVqqikp6fj6+t7wf2+vr5aKFCqvLcW7eN4ylnq+nryTJ9mZscREanRSlVUDMPAyenCX2KxWDB56SCRMll38DRf/X4MgCl3taK2u+mrTIiI1Gil+i1sGAZNmjTBYrFccL9IVZWRk89T8wov+QzuHMG1Tc4fiyUiIpWrVEVl5syZFZVDxHSTf9nLidSzhNfx5NlbdMlHRMQRlKqoDBs2rKJyiJhqxb4k5m6K++/Ebm3w0iUfERGHUKoxKikpKUyfPr3EAbNpaWkX3CfiyFKz84ru8hnRLZIuDXWXj4iIoyhVUfnggw9YvXo1Pj4+5+2zWq2sWbOG6dOnl1s4kcrw0o+7SfrvWj5P36yJ3UREHEmpisp3333Hww8/fMH9Dz30EPPmzStzKJHKsmjXSRZsi8fJAu/0b6O1fEREHEypisqhQ4eIirrw6rFRUVEcOnSozKFEKsOZzFyem78LgId6NKJdhJ/JiURE5K9KVVScnZ2Jj4+/4P74+PiLzrMi4igMw+D5Bbs4k5VH02Bvxt144QIuIiLmKVWraNeuHQsWLLjg/vnz59OuXbuyZhKpcD9uj2fhrgRcnCy8M6AN7i665CMi4ohKdQ/mo48+ysCBA6lXrx6PPPIIzs6Fv9xtNhsfffQR7733HrNnz66QoCLlJTE9h0k/7AZgzPVRtKxrNTmRiIhcSKmKyt13383TTz/NY489xnPPPUfDhg0BOHz4MJmZmTz11FPcc889FRJUpDwYhsEz3+0g7Ww+repa+XvPRmZHEhGRiyj1rFaTJ0/m9ttv51//+hcHDx7EMAx69OjBfffdR6dOnSoio0i5+b8NsayIOYWbixPvDGiDq7PGVImIOLJSFZVdu3bRsmVLOnXqpFIiVc6hU5lM/mUPABNujqZJsLfJiURE5FJK9edk69at6dy5M59//jkZGRkVlUmk3OXb7Iz/Zhs5+XaubhzAiG4NzI4kIiKXoVRFZdWqVbRo0YInnniC0NBQhg0bxpo1ayoqm0i5mbb8ADuOp2H1dOUf/dvg5FTyCuAiIuJYSlVUrrnmGr788ktOnjzJ9OnTOXr0KD169KBJkya8+eabJCQkVFROkSu25VgyH644CMDkO1sSYvUwOZGIiFyuKxpJ6OXlxYgRI1i1ahX79++nf//+fPjhh0RERNCvX7/yzihyxTJzCxj/zXbsBtzVri63tQ4zO5KIiJRCmW95aNy4Mc8++yzPP/883t7e/PLLL+WRS6RcvPLTbmKTs6nr68lLt7cwO46IiJRSqW9P/rPVq1fz5Zdf8t133+Hk5MSAAQN44IEHyiubSJks2nWSf28+jsUC7w5og4+Hq9mRRESklEpdVOLj45k1axazZs3i4MGDdOvWjWnTpjFgwAC8vLwqIqNIqSWl5zDx+50APHRtIzo39Dc5kYiIXIlSFZU+ffqwbNkyAgICGDp0KCNHjqRp06YVlU3kihiGwVPzdpCSnU/zUB8ev6mJ2ZFEROQKlaqouLq6Mm/ePG677baidX5EHM1X646yav8p3F2cmDqwLW4umn1WRKSqKlVR+fHHHysqh0i52BOfzusL9wEwsU80UZp9VkSkStOfmlJtZOcVMGbOVvIK7NwQHcQwzT4rIlLlqahItfHKT3s4dCqLYB933u7fBotFs8+KiFR1KipSLfy0PZ65m+KwWOC9e9tSx8vN7EgiIlIOVFSkyotLzubZ/96KPPq6xnRrFGByIhERKS8qKlKl5dvsPDb3DzJyC2gf4cvYG6PMjiQiIuVIRUWqtKnLDvBHbCreHi5MHdgOV2f9kxYRqU70W12qrHUHT/PhysJVkd+4qzXhdWqZnEhERMpbmdb6ETFFSgrJx+IZtyAWw4CBrYO4tXWo2alERKQC6IyKVC1xcdgHDuSJyd+SlGOn8elYXvz6JYiLMzuZiIhUABUVqTpSUmDUKD5J82FFo4645+cy/ce38Fz8K4waVbhfRESqFRUVqToSE9mw5wT/uHYIAK8s+4Rmp44W7luyBBITzcsmIiIVQkVFqozTSSmM6fc0didn7tr1HwbsWFr8gLQ0c4KJiEiFUVGRKsFmNxj3x1mSvP2JOn2M15Z8yHkT5FutZkQTEZEKpKIiVcL0/xxg7cmzeNry+WjBG9TKzy1+QK9eEBxsTjgREakwKiri8NYeOM3U5QcAmNy7IVFXNSt+QK9eMGMG+PmZkE5ERCqS5lERh5aYnsPYuX8UzpfSMZy7bmwNV80tHDibllZ4uSc4WCVFRKSaUlERh1VgszNm9h+cycojOsSbl/q1KNzh56diIiJSQ+jSjzistxfHsPFoMrXdXfhocHs8XJ3NjiQiIpVMRUUc0i87TvLp6sMAvHl3axoG1jY5kYiImEFFRRzO/sQMnpq3HYCHrm2odXxERGowFRVxKOk5+Tz0zy1k59no1sifp3o3NTuSiIiYyNSiMmXKFDp27Ii3tzdBQUHccccdxMTEmBlJTGS3Gzz+zXaOnM4izOrB9EHtcHFWlxYRqclMfRdYtWoVo0ePZv369SxdupT8/Hx69epFVlaWmbHEJB+uOMiyvYm4uTjxyZCr8K/tbnYkERExmam3Jy9atKjY57NmzSIoKIgtW7Zw7bXXnnd8bm4uubn/m5E0PT29wjNK5VgRk8S7y/YD8NodLWldz9fcQCIi4hAc6rx62n8XlatTp06J+6dMmYLVai36CA8Pr8x4UkGOncli7JzCSd0Gd45gQAf9XEVEpJDFMAzD7BAAdrudfv36kZqaytq1a0s8pqQzKuHh4aSlpeHj41NZUaUcZecVcNdH69iXkEG7CF/mPtgFdxfNlyIiUp2lp6djtVov6/3bYWamHT16NLt27bpgSQFwd3fH3V3jFqoLu93giX9vZ19CBgG13fh48FUqKSIiUoxDFJVHH32Un3/+mdWrV1OvXj2z40glmbr8AAt3JeDqbOGT+68ixOphdiQREXEwphYVwzAYM2YM8+fPZ+XKlURGRpoZRyrRLztO/m9F5Dtb0aFByeOSRESkZjO1qIwePZrZs2fzww8/4O3tTUJCAgBWqxVPT08zo0kF2nUijSe+3QbAA1dHavCsiIhckKmDaS0WS4nbZ86cyfDhwy/59aUZjCOOISkjh9s/+I2TaTn0aBLIF8M6aFI3EZEapsoMpnWQG46kkuQW2Hj4n1s4mZZDw0AvpmnmWRERuQS9S0ilMAyDid/vZGtsKj4eLnwxrCNWT1ezY4mIiINTUZFK8enqw3y/9QTOThY+HNyeyAAvsyOJiEgVoKIiFe6XHSd5Y+E+AF64tRnXRAWanEhERKoKFRWpUFuOpTD+39sAGN6tAcO76xZ0ERG5fCoqUmGOncnib19vJq/Azo3NgnjhtuZmRxIRkSpGRUUqREpWHiNmbiI5K49Wda1MG9QOZ6eSb0cXERG5EBUVKXe5BTYe+ucWDp/Ooq6vJ18M60AtN4dYrUFERKoYFRUpV4Zh8PS8HWw8moy3uwtfDu9IkI/W8BERkSujoiLl6t2l+/lhWzwuThY+ur89TUO8zY4kIiJVmIqKlJt//n6U6f85CMBrd7TUbcgiIlJmKipSLn7deZJJP+4GYNyNUQzsFGFyIhERqQ5UVKTM1h06zbi52zAMGNw5grE3RJkdSUREqgkVFSmTXSfSePDrLeTZ7NzcIoRXbm95wVWxRURESktFRa5Y7Jlshs/cRGZuAZ0j6/D+wLaaK0VERMqViopckVMZuQz5cgOnM3NpFurD58M64OHqbHYsERGpZlRUpNQycvIZMWsjx85kU8/Pk69GdMTHw9XsWCIiUg2pqEipZOcVMHLWJnadSKeOlxtfj+ykCd1ERKTCqKjIZTs3Nf6moyl4e7jw9chONAysbXYsERGpxlRU5LLk2+w8OvsP1hw4TS03Z2aN6EjLulazY4mISDWnoiKXZLMbPPntdpbuScTNxYkZQztwVf06ZscSEZEaQEVFLsowDJ6bv7No/Z5P7m9Pt8YBZscSEZEaQkVFLsgwDF79eS9zN8XhZIH3rwni+rSjEBMDKSlmxxMRkRpARUVKZBgGr/+6ly9/OwLAm0eXctstHaFLF4iOhoEDIS7O5JQiIlLdqajIec6VlM/XFJaU12L/Q/+5U4sftGQJjBqlMysiIlKhVFSkmPNKSpcA7p/zbskHL1kCiYmVmE5ERGoaFRUpcl5JuaMl94de4ovS0io+mIiI1FgqKgJcoKR0qQ/WS8yVcqn9IiIiZaCiIhiGweRfSigpAMHB0KtXyV/Yq1fhfhERkQqiolLD2e0Gzy3YxYy1JZQUAD8/mDHj/LLSq1fhdj+/SkwrIiI1jYvZAcQ8BTY7T83bwfw/TuBkgTfuas2AjuHnHxgeDnPnFg6cTUsrvNwTHKySIiIiFU5FpYbKLbDx2Jw/WLw7ERcnC+/d25a+bcIu/AV+fiomIiJS6VRUaqCzeTYe/Odm1hw4jZuLEx/d154bm2usiYiIOB4VlRomIyefB2ZtZuPRZDxdnZkxrAPdtXaPiIg4KBWVGuRURi4jZm1k14l0vD1cmDWio1ZBFhERh6aiUkMcPZ3F0C83Epucjb+XG1+N7ETLupoDRUREHJuKSg2w83gaI2Zt5HRmHuF1PPl6ZGciA7zMjiUiInJJKirV3JoDp3j4n1vIyrPRPNSHWSM7EuTtYXYsERGRy6KiUo39sO0ET367nXybQbdG/nw65Cq8PVzNjiUiInLZVFSqIcMw+Gz1YaYs3AfAba1DeWdAG9xdnE1OJiIiUjoqKtVMvs3OpB92MWdjHAAjujfghVub4+RkMTmZiIhI6amoVCNpZ/MZ/a+trD14GosFXri1OSO6N8BiUUkREZGqSUWlmog9k83IrzZxMCmTWm7OTBvYTrPNiohIlaeiUg1sOZbMg19v4UxWHiE+HnwxvAMtwjRHioiIVH0qKlXc/D+OM+G7neQV2GlZ14cvhnUk2Ee3H4uISPWgolJFFdjsvLFwHzPWHgHgxmbBTBvUllpu+pGKiEj1oXe1KiglK49H52zlt4NnAHi0Z2Mev6mJ7uwREZFqR0Wlitl7Mp2/fb2Z4ylnqeXmzD/6t+GWVqFmxxIREakQKipVyC87TvLkt9s5m28jok4tPht6FdEhPmbHEhERqTAqKo4sJQUSE8lPSeXNgzZm7E4F4JqoAKYPaodvLTdz84mIiFQwJ7MDyAXExcHAgcR3uoZ7P1pbVFIebBvAzOEdVVJERKRG0BkVR5SSAqNGserAacYNn0pKLSveOZn849f36f2HD/SeC35+ZqcUERGpcKaeUVm9ejV9+/YlLCwMi8XCggULzIzjMGwnE3g3O5Dh/V8ipZaVFgkH+fmrcfQ+sB6WLIHERLMjioiIVApTi0pWVhZt2rThww8/NDOGQ0lKz2HIwjimdR+EYXHivj8W8t3/PUX91IT/HZSWZl5AERGRSmTqpZ8+ffrQp0+fyz4+NzeX3Nzcos/T09MrIpZplu5J5Ol520nJzqdW3lleX/whd+xZef6BVk2PLyIiNUOVGkw7ZcoUrFZr0Ud4eLjZkcrF2Twbzy/Yyd++3kxKdj7Ng7z48eC8kktKr14QrMUGRUSkZqhSRWXixImkpaUVfcTFxZkdqcz2nkyn3wdr+b/1sQD87ZpI5j92DY0/fLuwlPxZr14wY4YG0oqISI1Rpe76cXd3x93d3ewY5cJuN5i57ihvLtxHns1OoLc77/Rvw7VNAgsPCA+HuXMLB86mpRVe7gkOVkkREZEapUoVleoi9kw2T83bzoYjyQDcEB3EW/e0xr/2X0qYn5+KiYiI1GgqKpXIbjf418ZYpvy6l+w8G56uzjx7azPu7xyBxaIFBUVERP7K1KKSmZnJwYMHiz4/cuQI27Zto06dOkRERJiYrPwdT8lmwnc7ilY87hRZh3/c04YI/1omJxMREXFcphaVzZs307Nnz6LPH3/8cQCGDRvGrFmzTEpVvgzD4JtNcbz2y14ycwvwcHViws3RDOvaACcnnUURERG5GFOLynXXXYdhGGZGqFCHT2Xy3Pxd/H648CzKVfX9+Ef/NkQGeJmcTEREpGrQGJUKkFdg59NVh5i+4iB5BXY8XJ144qamjLw6EmedRREREblsKirlbNPRZJ79ficHkjIBuLZJIK/d3lJjUURERK6AikpJUlL+N3+Jry8EBV3yNuG07HzeWLSPORsLJ27z93JjUt/m9GsTpjt6RERErpCKyl/FxcGoUYWrFJ9zbkbYEqbst9kNvt0cx1uLY0jOygPg3g7hTLwlGt9abpWVWkREpFpSUfmzlJTzSwoUfj5qVOFMsX86s7LlWAov/bibnScKVzNuFOjF5Dtb0aWhf2WmFhERqbZUVP4sMfH8knLOkiWF+/38SMrI4Y2F+/h+6wkAvN1dGHtjFMO6NcDVuUotnyQiIuLQVFT+LC3tortzklP5evUhpi0/SGZuAQD9r6rH0zdHE+hdPdYgEhERcSQqKn9mtZa42Y6FH5v34O3laZzIKpwTpU09Ky/f3pK24b6VGFBERKRmUVH5s+DgwoGzf7r8sy6iNa/3HMmukMaQVUCIjweP92rCPe3raWZZERGRCqai8md+foV394waRczWGN64bjgrGnUEoLarE49cH8XI7pF4ujmbHFRERKRmUFH5q/BwZj31Hq8sP4LdABcL3N8+hDF9WuJfW+NQREREKpOKSgk6Nq8Ly49wS6sQnu4dTQOtzSMiImIKFZUStAizsuLJ66jvr4IiIiJiJk36cQEqKSIiIuZTURERERGHpaIiIiIiDktFRURERByWioqIiIg4LBUVERERcVgqKiIiIuKwVFRERETEYamoiIiIiMNSURERERGHpaIiIiIiDktFRURERByWioqIiIg4LBUVERERcVguZgcoC8MwAEhPTzc5iYiIiFyuc+/b597HL6ZKF5WMjAwAwsPDTU4iIiIipZWRkYHVar3oMRbjcuqMg7Lb7cTHx+Pt7Y3FYjE7ToVIT08nPDycuLg4fHx8zI7jMPS6nE+vyfn0mpRMr8v59JqUrKJeF8MwyMjIICwsDCeni49CqdJnVJycnKhXr57ZMSqFj4+P/uMpgV6X8+k1OZ9ek5LpdTmfXpOSVcTrcqkzKedoMK2IiIg4LBUVERERcVgqKg7O3d2dF198EXd3d7OjOBS9LufTa3I+vSYl0+tyPr0mJXOE16VKD6YVERGR6k1nVERERMRhqaiIiIiIw1JREREREYeloiIiIiIOS0XFQU2ZMoWOHTvi7e1NUFAQd9xxBzExMWbHcihvvPEGFouFcePGmR3FdCdOnOD+++/H398fT09PWrVqxebNm82OZRqbzcYLL7xAZGQknp6eNGrUiFdfffWy1hWpTlavXk3fvn0JCwvDYrGwYMGCYvsNw2DSpEmEhobi6enJjTfeyIEDB8wJW0ku9prk5+czYcIEWrVqhZeXF2FhYQwdOpT4+HjzAleCS/07+bOHH34Yi8XC+++/X2n5VFQc1KpVqxg9ejTr169n6dKl5Ofn06tXL7KyssyO5hA2bdrEp59+SuvWrc2OYrqUlBS6d++Oq6srCxcuZM+ePbzzzjv4+fmZHc00b775Jh9//DEffPABe/fu5c033+Stt95i+vTpZkerVFlZWbRp04YPP/ywxP1vvfUW06ZN45NPPmHDhg14eXnRu3dvcnJyKjlp5bnYa5Kdnc3WrVt54YUX2Lp1K99//z0xMTH069fPhKSV51L/Ts6ZP38+69evJywsrJKS/ZchVUJSUpIBGKtWrTI7iukyMjKMqKgoY+nSpUaPHj2MsWPHmh3JVBMmTDCuvvpqs2M4lFtvvdUYOXJksW133XWXMXjwYJMSmQ8w5s+fX/S53W43QkJCjLfffrtoW2pqquHu7m7MmTPHhISV76+vSUk2btxoAMaxY8cqJ5TJLvSaHD9+3Khbt66xa9cuo379+sZ7771XaZl0RqWKSEtLA6BOnTomJzHf6NGjufXWW7nxxhvNjuIQfvzxRzp06ED//v0JCgqiXbt2fP7552bHMlW3bt1Yvnw5+/fvB2D79u2sXbuWPn36mJzMcRw5coSEhIRi/x1ZrVY6d+7M77//bmIyx5KWlobFYsHX19fsKKax2+0MGTKEp556ihYtWlT681fpRQlrCrvdzrhx4+jevTstW7Y0O46p5s6dy9atW9m0aZPZURzG4cOH+fjjj3n88cd59tln2bRpE4899hhubm4MGzbM7HimeOaZZ0hPTyc6OhpnZ2dsNhuTJ09m8ODBZkdzGAkJCQAEBwcX2x4cHFy0r6bLyclhwoQJDBo0qEYvVPjmm2/i4uLCY489Zsrzq6hUAaNHj2bXrl2sXbvW7CimiouLY+zYsSxduhQPDw+z4zgMu91Ohw4deP311wFo164du3bt4pNPPqmxReXf//43//rXv5g9ezYtWrRg27ZtjBs3jrCwsBr7mkjp5OfnM2DAAAzD4OOPPzY7jmm2bNnC1KlT2bp1KxaLxZQMuvTj4B599FF+/vlnVqxYQb169cyOY6otW7aQlJRE+/btcXFxwcXFhVWrVjFt2jRcXFyw2WxmRzRFaGgozZs3L7atWbNmxMbGmpTIfE899RTPPPMMAwcOpFWrVgwZMoTx48czZcoUs6M5jJCQEAASExOLbU9MTCzaV1OdKynHjh1j6dKlNfpsypo1a0hKSiIiIqLo9+6xY8d44oknaNCgQaVk0BkVB2UYBmPGjGH+/PmsXLmSyMhIsyOZ7oYbbmDnzp3Fto0YMYLo6GgmTJiAs7OzScnM1b179/NuXd+/fz/169c3KZH5srOzcXIq/neYs7MzdrvdpESOJzIykpCQEJYvX07btm0BSE9PZ8OGDTzyyCPmhjPRuZJy4MABVqxYgb+/v9mRTDVkyJDzxgP27t2bIUOGMGLEiErJoKLioEaPHs3s2bP54Ycf8Pb2LrpmbLVa8fT0NDmdOby9vc8bo+Pl5YW/v3+NHrszfvx4unXrxuuvv86AAQPYuHEjn332GZ999pnZ0UzTt29fJk+eTEREBC1atOCPP/7g3XffZeTIkWZHq1SZmZkcPHiw6PMjR46wbds26tSpQ0REBOPGjeO1114jKiqKyMhIXnjhBcLCwrjjjjvMC13BLvaahIaGcs8997B161Z+/vlnbDZb0e/eOnXq4ObmZlbsCnWpfyd/LWuurq6EhITQtGnTyglYafcXSakAJX7MnDnT7GgORbcnF/rpp5+Mli1bGu7u7kZ0dLTx2WefmR3JVOnp6cbYsWONiIgIw8PDw2jYsKHx3HPPGbm5uWZHq1QrVqwo8ffIsGHDDMMovEX5hRdeMIKDgw13d3fjhhtuMGJiYswNXcEu9pocOXLkgr97V6xYYXb0CnOpfyd/Vdm3J1sMo4ZN1SgiIiJVhgbTioiIiMNSURERERGHpaIiIiIiDktFRURERByWioqIiIg4LBUVERERcVgqKiIiIuKwVFRERETEYamoiMhlGz58uKnTqw8ZMqRolejKsGjRItq2bas1gkRMpKIiIgBYLJaLfrz00ktMnTqVWbNmmZJv+/bt/Prrrzz22GMAPPPMM0RHRxc7Zt++fVgsFoYPH15s+6xZs3B3d+fs2bNA8e/Vy8uLqKgohg8fzpYtW4p93c0334yrqyv/+te/Ku4bE5GLUlEREQBOnjxZ9PH+++/j4+NTbNuTTz6J1WrF19fXlHzTp0+nf//+1K5dG4CePXsSExNTtGgcwIoVKwgPD2flypXFvnbFihV06dKl2IKeM2fO5OTJk+zevZsPP/yQzMxMOnfuzNdff13sa4cPH860adMq7hsTkYtSURERAEJCQoo+rFYrFoul2LbatWufd+nnuuuuY8yYMYwbNw4/Pz+Cg4P5/PPPycrKYsSIEXh7e9O4cWMWLlxY7Ll27dpFnz59qF27NsHBwQwZMoTTp09fMJvNZmPevHn07du3aNvVV1+Nq6trsVKycuVKRo8eTXJyMkePHi22vWfPnsUe09fXl5CQEBo0aECvXr2YN28egwcP5tFHHyUlJaXouL59+7J582YOHTpUyldURMqDioqIlMlXX31FQEAAGzduZMyYMTzyyCP079+fbt26sXXrVnr16sWQIUPIzs4GIDU1leuvv5527dqxefNmFi1aRGJiIgMGDLjgc+zYsYO0tDQ6dOhQtM3Ly4uOHTuyYsWKom0rV67khhtuoHv37kXbDx8+TGxs7HlFpSTjx48nIyODpUuXFm2LiIggODiYNWvWlPq1EZGyU1ERkTJp06YNzz//PFFRUUycOBEPDw8CAgL429/+RlRUFJMmTeLMmTPs2LEDgA8++IB27drx+uuvEx0dTbt27fjyyy9ZsWIF+/fvL/E5jh07hrOzM0FBQcW29+zZs+iMyp49e8jJyaFdu3Zce+21RdtXrlyJh4cHXbp0ueT3cm7My5/PxgCEhYVx7NixUrwqIlJeVFREpExat25d9P+dnZ3x9/enVatWRduCg4MBSEpKAgoHxa5YsYLatWsXfZwrCBe6vHL27Fnc3d2xWCzFtl933XXs37+fkydPsnLlSq6++mqcnZ3p0aNHsaLSrVs33N3dL/m9GIYBcN7zeHp6Fp0REpHK5WJ2ABGp2lxdXYt9brFYim0796Z/7hbfzMxM+vbty5tvvnneY4WGhpb4HAEBAWRnZ5OXl4ebm1vR9u7du+Pm5saKFStYsWIFPXr0AKBjx46cPn2aw4cPs3LlSh566KHL+l727t0LQGRkZLHtycnJBAYGXtZjiEj5UlERkUrVvn17vvvuOxo0aICLy+X9Cmrbti1QeHnn3P+HwjMdnTt3ZuXKlaxatYqnnnoKKCxPXbp04YsvviAuLu6yxqcARXc73XjjjUXbcnJyOHToEO3atbu8b1BEypUu/YhIpTp3V86gQYPYtGkThw4dYvHixYwYMQKbzVbi1wQGBtK+fXvWrl173r6ePXsyd+5ccnJyaN++fdH2Hj16MH369KJBt3+VmppKQkICx44dY+nSpdxzzz3Mnj2bjz/+uNgt2OvXr8fd3Z2uXbuW/ZsXkVJTURGRShUWFsZvv/2GzWajV69etGrVinHjxuHr64uT04V/JY0aNarEidd69uxJRkYG3bt3L3aGpkePHmRkZBTdxvxXI0aMIDQ0lOjoaB555BFq167Nxo0bue+++4odN2fOHAYPHkytWrXK8F2LyJWyGOdGj4mIOLCzZ8/StGlTvvnmm0o7u3H69GmaNm3K5s2bzxu3IiKVQ2dURKRK8PT05Ouvv77oxHDl7ejRo3z00UcqKSIm0hkVERERcVg6oyIiIiIOS0VFREREHJaKioiIiDgsFRURERFxWCoqIiIi4rBUVERERMRhqaiIiIiIw1JREREREYeloiIiIiIO6/8B5s1cO/yuhcIAAAAASUVORK5CYII=",
          "text/plain": "<Figure size 640x480 with 1 Axes>"
         },
         "metadata": {},
         "output_type": "display_data"
        }
       ]
      }
     },
     "81468ccca4c5488696c9b62db432f7f8": {
      "model_module": "@jupyter-widgets/base",
      "model_module_version": "2.0.0",
      "model_name": "LayoutModel",
      "state": {
       "display": "none"
      }
     },
     "84e0b50ab4244fb4820d4703fb4c3970": {
      "model_module": "@jupyter-widgets/controls",
      "model_module_version": "2.0.0",
      "model_name": "ButtonStyleModel",
      "state": {
       "font_family": null,
       "font_size": null,
       "font_style": null,
       "font_variant": null,
       "font_weight": null,
       "text_color": null,
       "text_decoration": null
      }
     },
     "872eb20ebb3e4989a3db9190bc5db97a": {
      "model_module": "@jupyter-widgets/controls",
      "model_module_version": "2.0.0",
      "model_name": "ButtonStyleModel",
      "state": {
       "font_family": null,
       "font_size": null,
       "font_style": null,
       "font_variant": null,
       "font_weight": null,
       "text_color": null,
       "text_decoration": null
      }
     },
     "896c3ea1b13441048f12fb11878c5347": {
      "model_module": "@jupyter-widgets/base",
      "model_module_version": "2.0.0",
      "model_name": "LayoutModel",
      "state": {
       "align_items": "flex-start"
      }
     },
     "896dfd05048848de9f91c0562e45df36": {
      "model_module": "@jupyter-widgets/base",
      "model_module_version": "2.0.0",
      "model_name": "LayoutModel",
      "state": {
       "margin": "10px 0px 0px 90px"
      }
     },
     "8bc40b74008a49328a8fd388ada3901b": {
      "model_module": "@jupyter-widgets/output",
      "model_module_version": "1.0.0",
      "model_name": "OutputModel",
      "state": {
       "layout": "IPY_MODEL_ce1095e8843e4f25b506a0bd72ad8ca3"
      }
     },
     "8c2db4f26ce04583831da5da1920d1ec": {
      "model_module": "@jupyter-widgets/base",
      "model_module_version": "2.0.0",
      "model_name": "LayoutModel",
      "state": {
       "display": "block"
      }
     },
     "98f31b3476c74641ac5a03fbcfcd655b": {
      "model_module": "@jupyter-widgets/controls",
      "model_module_version": "2.0.0",
      "model_name": "DescriptionStyleModel",
      "state": {
       "description_width": ""
      }
     },
     "994b805e5d4e4ea7a654f4a5ec33e526": {
      "model_module": "@jupyter-widgets/controls",
      "model_module_version": "2.0.0",
      "model_name": "ButtonStyleModel",
      "state": {
       "font_family": null,
       "font_size": null,
       "font_style": null,
       "font_variant": null,
       "font_weight": null,
       "text_color": null,
       "text_decoration": null
      }
     },
     "9f6291a956724042988ae6ea6581613d": {
      "model_module": "@jupyter-widgets/controls",
      "model_module_version": "2.0.0",
      "model_name": "DescriptionStyleModel",
      "state": {
       "description_width": ""
      }
     },
     "aa9c98170db842ae90a8f6e0e145b26a": {
      "model_module": "@jupyter-widgets/base",
      "model_module_version": "2.0.0",
      "model_name": "LayoutModel",
      "state": {}
     },
     "ace4f67e67a1463f8ae211c82d6944bd": {
      "model_module": "@jupyter-widgets/controls",
      "model_module_version": "2.0.0",
      "model_name": "DescriptionStyleModel",
      "state": {
       "description_width": ""
      }
     },
     "b0b83773470c47e583673d148d9a993e": {
      "model_module": "@jupyter-widgets/controls",
      "model_module_version": "2.0.0",
      "model_name": "TextModel",
      "state": {
       "description": "Custom Func:",
       "layout": "IPY_MODEL_45214c7bbb8a4f978c42139e7d066f66",
       "style": "IPY_MODEL_34bd5564e10e4df98982f43f81f3c458"
      }
     },
     "b647012082fd436cad84a67cb57d778f": {
      "model_module": "@jupyter-widgets/base",
      "model_module_version": "2.0.0",
      "model_name": "LayoutModel",
      "state": {}
     },
     "baa0608df4584404aa25d89bbba6304d": {
      "model_module": "@jupyter-widgets/base",
      "model_module_version": "2.0.0",
      "model_name": "LayoutModel",
      "state": {
       "margin": "10px 0px 0px 90px"
      }
     },
     "bab08debe3824465b2d39c7a814928aa": {
      "model_module": "@jupyter-widgets/controls",
      "model_module_version": "2.0.0",
      "model_name": "HBoxModel",
      "state": {
       "children": [
        "IPY_MODEL_1563002cf4234e3f84bbef2c445ca642",
        "IPY_MODEL_3a78b0f1b85b44f38ce81c0904a45c6c",
        "IPY_MODEL_43f9256dc34e4ef78912fa5eeb590a1d"
       ],
       "layout": "IPY_MODEL_aa9c98170db842ae90a8f6e0e145b26a"
      }
     },
     "c03e2988183248af998c18c8366cdaaf": {
      "model_module": "@jupyter-widgets/base",
      "model_module_version": "2.0.0",
      "model_name": "LayoutModel",
      "state": {}
     },
     "c06c9645b00a401fa9923ffdcb38cf17": {
      "model_module": "@jupyter-widgets/base",
      "model_module_version": "2.0.0",
      "model_name": "LayoutModel",
      "state": {}
     },
     "c161ab1a1d6a4640bb21016a9978947f": {
      "model_module": "@jupyter-widgets/controls",
      "model_module_version": "2.0.0",
      "model_name": "VBoxModel",
      "state": {
       "children": [
        "IPY_MODEL_4ae36222da044afe904fdd928517b748",
        "IPY_MODEL_6f5f43c5aec848aeab9fe21cdd47991a"
       ],
       "layout": "IPY_MODEL_1a648b4ea84749b8816e7466b97cfbc7"
      }
     },
     "c55758642d2c44b7b1d19233b690bdbe": {
      "model_module": "@jupyter-widgets/controls",
      "model_module_version": "2.0.0",
      "model_name": "VBoxModel",
      "state": {
       "children": [
        "IPY_MODEL_4095697b5f644c97b63597596d94d729",
        "IPY_MODEL_50185ad837f34cf3816746478f12cb69"
       ],
       "layout": "IPY_MODEL_896c3ea1b13441048f12fb11878c5347"
      }
     },
     "c73f01271ccd4c4bb79c538ec4e7299c": {
      "model_module": "@jupyter-widgets/controls",
      "model_module_version": "2.0.0",
      "model_name": "DropdownModel",
      "state": {
       "_options_labels": [
        "Polynomial",
        "Exponential",
        "Power",
        "Logarithmic",
        "Fourier",
        "Gaussian",
        "Weibull",
        "Hill-type",
        "Sigmoidal",
        "Custom"
       ],
       "description": "Model:",
       "index": 8,
       "layout": "IPY_MODEL_3f77f681ad504ad587b6b9eed91df21c",
       "style": "IPY_MODEL_9f6291a956724042988ae6ea6581613d"
      }
     },
     "ce1095e8843e4f25b506a0bd72ad8ca3": {
      "model_module": "@jupyter-widgets/base",
      "model_module_version": "2.0.0",
      "model_name": "LayoutModel",
      "state": {}
     },
     "d133a08e486c4738bcfeb44b87d44659": {
      "model_module": "@jupyter-widgets/base",
      "model_module_version": "2.0.0",
      "model_name": "LayoutModel",
      "state": {
       "margin": "10px 0px 0px 90px"
      }
     },
     "e2220945e98b453db55e0c59d1573747": {
      "model_module": "@jupyter-widgets/controls",
      "model_module_version": "2.0.0",
      "model_name": "DropdownModel",
      "state": {
       "description": "Submodel:",
       "index": null,
       "layout": "IPY_MODEL_5ddc502899564050a0c7668fb8f8cfe1",
       "style": "IPY_MODEL_0234d56d126b4997987b21a646f0713b"
      }
     },
     "e551b29b94ad4bcaa8ac1209bbdb3c98": {
      "model_module": "@jupyter-widgets/controls",
      "model_module_version": "2.0.0",
      "model_name": "TextStyleModel",
      "state": {
       "description_width": "",
       "font_size": null,
       "text_color": null
      }
     },
     "ed9f083b1861412e957dccec8c0219fc": {
      "model_module": "@jupyter-widgets/controls",
      "model_module_version": "2.0.0",
      "model_name": "VBoxModel",
      "state": {
       "children": [
        "IPY_MODEL_bab08debe3824465b2d39c7a814928aa",
        "IPY_MODEL_5b7b08c852174f3db4512da66493b660"
       ],
       "layout": "IPY_MODEL_6d535b6381b547198af46e842042e9df"
      }
     },
     "f1fd269fb38e4c69a9cbc5643632532f": {
      "model_module": "@jupyter-widgets/controls",
      "model_module_version": "2.0.0",
      "model_name": "DescriptionStyleModel",
      "state": {
       "description_width": ""
      }
     }
    },
    "version_major": 2,
    "version_minor": 0
   }
  }
 },
 "nbformat": 4,
 "nbformat_minor": 5
}
